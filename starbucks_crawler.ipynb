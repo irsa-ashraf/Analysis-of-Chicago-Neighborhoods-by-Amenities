{
 "cells": [
  {
   "cell_type": "code",
   "execution_count": 8,
   "id": "97ac7137",
   "metadata": {},
   "outputs": [
    {
     "name": "stdout",
     "output_type": "stream",
     "text": [
      "None\n",
      "None\n"
     ]
    }
   ],
   "source": [
    "html = 'https://www.openstreetmap.org/search?query=starbucks%20chicago%2060603'\n",
    "\n",
    "\n",
    "import requests\n",
    "from bs4 import BeautifulSoup\n",
    "\n",
    "r = requests.get(html)\n",
    "r = r.text.encode('iso-8859-1')\n",
    "soup = BeautifulSoup(r, \"html5lib\")\n",
    "\n",
    "divs = soup.find_all('div', class_=\"search_results_entry mx-n3\")\n",
    "\n",
    "for d in divs:\n",
    "    ul = soup.find('ul', class_=\"results-list list-group list-group-flush\")\n",
    "    print(ul)\n",
    "\n",
    "\n",
    "\n",
    "\n",
    "\n"
   ]
  },
  {
   "cell_type": "code",
   "execution_count": null,
   "id": "c2c44aa5",
   "metadata": {},
   "outputs": [],
   "source": [
    "\n",
    "html = \"\"\"<ul class='results-list list-group list-group-flush'>\n",
    "<li>list-group-item search_results_entry</li>\n",
    "<a>set position</a>\n",
    "</ul>\"\"\"\n",
    "from bs4 import BeautifulSoup as BS\n",
    "soup = BS(html)\n",
    "for ultag in soup.find_all('ul', {'class': 'my_class'}):\n",
    "...     for litag in ultag.find_all('li'):\n",
    "...             print litag.text\n",
    "... \n",
    "thing one\n",
    "thing two"
   ]
  },
  {
   "cell_type": "code",
   "execution_count": 49,
   "id": "50ce56e3",
   "metadata": {},
   "outputs": [
    {
     "data": {
      "text/plain": [
       "[]"
      ]
     },
     "execution_count": 49,
     "metadata": {},
     "output_type": "execute_result"
    }
   ],
   "source": [
    "\n",
    "#soup.find_all('li', class_=\"list-group-item search_results_entry\")\n",
    "#soup.find('div',class_='search_results_entry mx-n3').find('ul')\n",
    "soup.find_all('ul', {'class': 'results-list list-group list-group-flush'})"
   ]
  },
  {
   "cell_type": "code",
   "execution_count": null,
   "id": "78dde37a",
   "metadata": {},
   "outputs": [],
   "source": []
  }
 ],
 "metadata": {
  "kernelspec": {
   "display_name": "Python 3 (ipykernel)",
   "language": "python",
   "name": "python3"
  },
  "language_info": {
   "codemirror_mode": {
    "name": "ipython",
    "version": 3
   },
   "file_extension": ".py",
   "mimetype": "text/x-python",
   "name": "python",
   "nbconvert_exporter": "python",
   "pygments_lexer": "ipython3",
   "version": "3.9.7"
  }
 },
 "nbformat": 4,
 "nbformat_minor": 5
}
